{
 "cells": [
  {
   "cell_type": "code",
   "execution_count": 1,
   "id": "09e645d9",
   "metadata": {},
   "outputs": [
    {
     "name": "stdout",
     "output_type": "stream",
     "text": [
      "INFO:tensorflow:Using MirroredStrategy with devices ('/job:localhost/replica:0/task:0/device:GPU:0', '/job:localhost/replica:0/task:0/device:GPU:1')\n"
     ]
    }
   ],
   "source": [
    "import os, glob, pickle, time\n",
    "import numpy as np\n",
    "import pandas as pd\n",
    "\n",
    "import tensorflow as tf\n",
    "from tensorflow.keras import layers\n",
    "from tensorflow.keras.layers import *\n",
    "from tensorflow.keras.models import Model\n",
    "from tensorflow.keras.optimizers import Adam, SGD\n",
    "\n",
    "\n",
    "from sklearn.preprocessing import LabelEncoder\n",
    "from sklearn.model_selection import train_test_split\n",
    "from sklearn.metrics import confusion_matrix, RocCurveDisplay\n",
    "\n",
    "import matplotlib.pyplot as plt\n",
    "\n",
    "os.environ['TF_CPP_MIN_LOG_LEVEL'] = '3'\n",
    "os.environ[\"CUDA_VISIBLE_DEVICES\"]='2,3'\n",
    "mirrored_strategy = tf.distribute.MirroredStrategy()"
   ]
  },
  {
   "cell_type": "code",
   "execution_count": 2,
   "id": "eff6b942",
   "metadata": {},
   "outputs": [],
   "source": [
    "def loads_npy_with_y(base_path, ids, y_value, normalize=True):\n",
    "    start_time = time.time()\n",
    "    loaded_npa_list = []\n",
    "    for id in ids:\n",
    "        file_path = glob.glob(f'{base_path}/{id}*.npy')[0]\n",
    "        if not isinstance(file_path, str):\n",
    "            raise Exception(f\"could'n find id({id}) file \")\n",
    "        npa = np.load(file_path)\n",
    "        if normalize:\n",
    "            npa = norm(npa)\n",
    "        n = npa.shape[0]\n",
    "        y = np.array([y_value] * n, dtype=npa.dtype)\n",
    "        npa = np.concatenate([npa,y.reshape(-1,1)], axis=1)\n",
    "        loaded_npa_list.append(npa)\n",
    "    \n",
    "    X = np.concatenate(loaded_npa_list, axis=0)\n",
    "\n",
    "    print(f\"{base_path} loaded, time : \", time.time()-start_time)\n",
    "    return X\n",
    "\n",
    "def norm(X):\n",
    "    ## normalized to have zero mean and unit variance\n",
    "    if np.ndim(X) != 2:\n",
    "        raise Exception(\"from norm_batch: the input dimention is not 2\")\n",
    "        \n",
    "    return (X - np.mean(X, axis=-1).reshape(-1,1)) / np.sqrt(np.var(X,axis=-1).reshape(-1,1) + 1e-5)\n",
    "\n",
    "\n",
    "\n",
    "def print_results(Y, preds):\n",
    "    tn, fp, fn, tp = confusion_matrix(Y[:preds.shape[0]], preds).ravel()\n",
    "\n",
    "    accuracy = (tn + tp) / (tn+tp+fn+fp)\n",
    "    recall = tp / (tp+fn)\n",
    "    precision = tp / (fp+tp)\n",
    "    f1_score = 2*(recall*precision) / (recall + precision)\n",
    "    specificity = tn / (fp+tn)\n",
    "\n",
    "    print(\"accuracy: \", round(accuracy,3))\n",
    "    print(\"recall: \", round(recall,3))\n",
    "    print(\"precision: \", round(precision,3))\n",
    "    print(\"f1_score: \", round(f1_score,3))\n",
    "    print(\"specificity: \", round(specificity,3))\n",
    "\n",
    "    RocCurveDisplay.from_predictions(Y[:preds.shape[0]], preds)\n",
    "    plt.show()\n",
    "    \n",
    "    return\n",
    "\n",
    "            \n",
    "def model_predict(model, X):\n",
    "    ## it's too big to use the whole data\n",
    "    start_time = time.time()\n",
    "    data_len = X.shape[0]\n",
    "    data_num_divided_1000 = data_len//1000 \n",
    "    \n",
    "    preds = np.array([],dtype=X.dtype)\n",
    "    for i in range(data_num_divided_1000):\n",
    "        start_num = i*1000\n",
    "        end_num = start_num + 1000\n",
    "        t_x = X[start_num:end_num]\n",
    "        pred = model.predict(t_x)\n",
    "        pred = np.where(pred>0.5, 1, 0)\n",
    "        preds = np.append(preds, pred)\n",
    "\n",
    "    print(\"preds.shape: \", preds.shape)\n",
    "    print(\"predict time: \", time.time()-start_time)\n",
    "    \n",
    "    return preds\n"
   ]
  },
  {
   "cell_type": "code",
   "execution_count": 3,
   "id": "7b2a10e5",
   "metadata": {},
   "outputs": [],
   "source": [
    "model = tf.keras.models.load_model('norm_model4_E10_B10_T59500_V19800_val-acc0.998.h5')"
   ]
  },
  {
   "cell_type": "code",
   "execution_count": 4,
   "id": "a056452e",
   "metadata": {},
   "outputs": [
    {
     "name": "stdout",
     "output_type": "stream",
     "text": [
      "CI loaded, time :  44.08545994758606\n",
      "HI loaded, time :  122.23365902900696\n",
      "(56040, 64000)\n"
     ]
    }
   ],
   "source": [
    "\n",
    "test_ci_ids = [\"HM0004\", \"HM0005\", \"HS0001\", \"HS0002\", \"HS0009\", \"HS0010\", \"HS0012\",\"HS0013\"]\n",
    "\n",
    "test_hi_ids = [\"HL0005\", \"HL0075\", \"HL0024\", \"HL0034\", \"HL0089\"]\n",
    "\n",
    "test_ci_with_y = loads_npy_with_y(\"CI\",test_ci_ids,1)\n",
    "\n",
    "test_hi_with_y = loads_npy_with_y(\"HI\",test_hi_ids,0)\n",
    "\n",
    "test_X_with_Y = np.concatenate([test_ci_with_y, test_hi_with_y], axis=0)\n",
    "np.random.shuffle(test_X_with_Y)\n",
    "\n",
    "test_X = test_X_with_Y[:,:-1]\n",
    "test_Y = test_X_with_Y[:, -1]\n",
    "print(test_X.shape)"
   ]
  },
  {
   "cell_type": "code",
   "execution_count": 5,
   "id": "cddb5acd",
   "metadata": {},
   "outputs": [
    {
     "name": "stdout",
     "output_type": "stream",
     "text": [
      "preds.shape:  (56000,)\n",
      "predict time:  311.4833483695984\n"
     ]
    }
   ],
   "source": [
    "preds = model_predict(model, test_X)"
   ]
  },
  {
   "cell_type": "code",
   "execution_count": 6,
   "id": "04f6d03b",
   "metadata": {},
   "outputs": [
    {
     "name": "stdout",
     "output_type": "stream",
     "text": [
      "accuracy:  0.984\n",
      "recall:  0.942\n",
      "precision:  0.997\n",
      "f1_score:  0.969\n",
      "specificity:  0.999\n"
     ]
    },
    {
     "data": {
      "image/png": "[encoded data removed]",
      "text/plain": [
       "<Figure size 432x288 with 1 Axes>"
      ]
     },
     "metadata": {
      "needs_background": "light"
     },
     "output_type": "display_data"
    }
   ],
   "source": [
    "print_results(test_Y, preds)\n",
    "del test_ci_with_y\n",
    "del test_hi_with_y\n",
    "del test_X_with_Y\n",
    "del test_X\n",
    "del test_Y"
   ]
  },
  {
   "cell_type": "code",
   "execution_count": 7,
   "id": "d2927d43",
   "metadata": {},
   "outputs": [
    {
     "name": "stdout",
     "output_type": "stream",
     "text": [
      "CI loaded, time :  39.97931504249573\n",
      "HI loaded, time :  149.36703443527222\n",
      "(60321, 64000)\n"
     ]
    }
   ],
   "source": [
    "test2_ci_ids = [\"HM0005\", \"HS0002\", \"HS0009\", \"HS0010\", \"HS0013\", \"HS0015\", \"HS0016\"]\n",
    "\n",
    "test2_hi_ids = [\"HL0023\", \"HL0031\", \"HL0043\", \"HL0060\", \"HL0071\", \"HL0091\", \"HL0094\", \"HL0101\", \"HL0111\", \"HL0125\", ]\n",
    "\n",
    "test2_ci_with_y = loads_npy_with_y(\"CI\",test2_ci_ids,1)\n",
    "\n",
    "test2_hi_with_y = loads_npy_with_y(\"HI\",test2_hi_ids,0)\n",
    "\n",
    "test2_X_with_Y = np.concatenate([test2_ci_with_y, test2_hi_with_y], axis=0)\n",
    "np.random.shuffle(test2_X_with_Y)\n",
    "\n",
    "test2_X = test2_X_with_Y[:,:-1]\n",
    "test2_Y = test2_X_with_Y[:, -1]\n",
    "\n",
    "print(test2_X.shape)"
   ]
  },
  {
   "cell_type": "code",
   "execution_count": 8,
   "id": "92138fc4",
   "metadata": {},
   "outputs": [
    {
     "name": "stdout",
     "output_type": "stream",
     "text": [
      "preds.shape:  (60000,)\n",
      "predict time:  301.32404828071594\n",
      "accuracy:  0.847\n",
      "recall:  0.971\n",
      "precision:  0.566\n",
      "f1_score:  0.715\n",
      "specificity:  0.816\n"
     ]
    },
    {
     "data": {
      "image/png": "[encoded data removed]",
      "text/plain": [
       "<Figure size 432x288 with 1 Axes>"
      ]
     },
     "metadata": {
      "needs_background": "light"
     },
     "output_type": "display_data"
    }
   ],
   "source": [
    "preds = model_predict(model, test2_X)\n",
    "print_results(test2_Y, preds)\n",
    "del test2_ci_with_y\n",
    "del test2_hi_with_y\n",
    "del test2_X_with_Y\n",
    "del test2_X\n",
    "del test2_Y"
   ]
  },
  {
   "cell_type": "code",
   "execution_count": 9,
   "id": "d0ca953c",
   "metadata": {},
   "outputs": [
    {
     "name": "stdout",
     "output_type": "stream",
     "text": [
      "CI loaded, time :  39.99596071243286\n",
      "HI loaded, time :  509.3286147117615\n",
      "(173737, 64000)\n"
     ]
    }
   ],
   "source": [
    "test3_ci_ids = [\"HM0005\", \"HS0002\", \"HS0009\", \"HS0010\", \"HS0013\", \"HS0015\", \"HS0016\"]\n",
    "\n",
    "test3_hi_ids = [\"HL0023\", \"HL0031\", \"HL0043\", \"HL0060\", \"HL0071\", \"HL0091\", \"HL0094\", \"HL0101\", \"HL0111\", \"HL0125\", ] + \\\n",
    "                [\"HL0004\", \"HL0009\", \"HL0012\", \"HL0013\", \"HL0014\", \"HL0017\", \"HL0129\", \"HL0130\", \"HL0134\", \"HL0136\", \"HL0138\", \\\n",
    "                \"HL0144\", \"HL0148\", \"HL0169\", \"HL0181\", \"HL0198\", \"HL0216\", \"HL0226\", \"HL0235\", \"HL0242\", \"HL0250\"] \n",
    "\n",
    "test3_ci_with_y = loads_npy_with_y(\"CI\",test3_ci_ids,1)\n",
    "\n",
    "test3_hi_with_y = loads_npy_with_y(\"HI\",test3_hi_ids,0)\n",
    "\n",
    "test3_X_with_Y = np.concatenate([test3_ci_with_y, test3_hi_with_y], axis=0)\n",
    "np.random.shuffle(test3_X_with_Y)\n",
    "\n",
    "test3_X = test3_X_with_Y[:,:-1]\n",
    "test3_Y = test3_X_with_Y[:, -1]\n",
    "\n",
    "print(test3_X.shape)"
   ]
  },
  {
   "cell_type": "code",
   "execution_count": 10,
   "id": "2e6cea40",
   "metadata": {},
   "outputs": [
    {
     "name": "stdout",
     "output_type": "stream",
     "text": [
      "preds.shape:  (173000,)\n",
      "predict time:  870.4232861995697\n",
      "accuracy:  0.857\n",
      "recall:  0.971\n",
      "precision:  0.321\n",
      "f1_score:  0.483\n",
      "specificity:  0.848\n"
     ]
    },
    {
     "data": {
      "image/png": "[encoded data removed]",
      "text/plain": [
       "<Figure size 432x288 with 1 Axes>"
      ]
     },
     "metadata": {
      "needs_background": "light"
     },
     "output_type": "display_data"
    }
   ],
   "source": [
    "preds = model_predict(model, test3_X)\n",
    "print_results(test3_Y, preds)\n",
    "del test3_ci_with_y\n",
    "del test3_hi_with_y\n",
    "del test3_X_with_Y\n",
    "del test3_X\n",
    "del test3_Y"
   ]
  },
  {
   "cell_type": "code",
   "execution_count": 11,
   "id": "acf15630",
   "metadata": {},
   "outputs": [
    {
     "name": "stdout",
     "output_type": "stream",
     "text": [
      "CI loaded, time :  94.8337779045105\n",
      "HI loaded, time :  147.67414903640747\n"
     ]
    }
   ],
   "source": [
    "train_ci_ids = [\"HM0001\", \"HM0002\", \"HS0003\", \"HS0004\", \"HS0005\", \"HS0006\", \"HS0011\"]\n",
    "\n",
    "train_hi_ids = [\"HL0052\", \"HL0074\", \"HL0028\", \"HL0150\", \"HL0039\", \"HL0019\", \"HL0029\"]\n",
    "\n",
    "train_ci_with_y = loads_npy_with_y(\"CI\",train_ci_ids,1)\n",
    "\n",
    "train_hi_with_y = loads_npy_with_y(\"HI\",train_hi_ids,0)\n",
    "\n",
    "train_X_with_Y = np.concatenate([train_ci_with_y, train_hi_with_y], axis=0)\n",
    "np.random.shuffle(train_X_with_Y)\n",
    "\n",
    "train_X = train_X_with_Y[:,:-1]\n",
    "train_Y = train_X_with_Y[:, -1]"
   ]
  },
  {
   "cell_type": "code",
   "execution_count": 12,
   "id": "579acc0f",
   "metadata": {},
   "outputs": [
    {
     "name": "stdout",
     "output_type": "stream",
     "text": [
      "preds.shape:  (79000,)\n",
      "predict time:  397.6512541770935\n",
      "accuracy:  0.998\n",
      "recall:  0.999\n",
      "precision:  0.996\n",
      "f1_score:  0.997\n",
      "specificity:  0.997\n"
     ]
    },
    {
     "data": {
      "image/png": "[encoded data removed]",
      "text/plain": [
       "<Figure size 432x288 with 1 Axes>"
      ]
     },
     "metadata": {
      "needs_background": "light"
     },
     "output_type": "display_data"
    }
   ],
   "source": [
    "preds = model_predict(model, train_X)\n",
    "print_results(train_Y, preds)\n",
    "del train_ci_with_y\n",
    "del train_hi_with_y\n",
    "del train_X_with_Y\n",
    "del train_X\n",
    "del train_Y"
   ]
  },
  {
   "cell_type": "code",
   "execution_count": null,
   "id": "846b3a7a",
   "metadata": {},
   "outputs": [],
   "source": []
  },
  {
   "cell_type": "code",
   "execution_count": null,
   "id": "d330fc4b",
   "metadata": {},
   "outputs": [],
   "source": []
  }
 ],
 "metadata": {
  "kernelspec": {
   "display_name": "Python 3 (ipykernel)",
   "language": "python",
   "name": "python3"
  },
  "language_info": {
   "codemirror_mode": {
    "name": "ipython",
    "version": 3
   },
   "file_extension": ".py",
   "mimetype": "text/x-python",
   "name": "python",
   "nbconvert_exporter": "python",
   "pygments_lexer": "ipython3",
   "version": "3.7.12"
  }
 },
 "nbformat": 4,
 "nbformat_minor": 5
}
