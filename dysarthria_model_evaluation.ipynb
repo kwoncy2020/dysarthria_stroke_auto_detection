{
 "cells": [
  {
   "cell_type": "code",
   "execution_count": 1,
   "id": "09e645d9",
   "metadata": {},
   "outputs": [
    {
     "name": "stdout",
     "output_type": "stream",
     "text": [
      "INFO:tensorflow:Using MirroredStrategy with devices ('/job:localhost/replica:0/task:0/device:GPU:0', '/job:localhost/replica:0/task:0/device:GPU:1')\n"
     ]
    }
   ],
   "source": [
    "import os, glob, pickle\n",
    "import numpy as np\n",
    "import pandas as pd\n",
    "\n",
    "import tensorflow as tf\n",
    "from tensorflow.keras import layers\n",
    "from tensorflow.keras.layers import *\n",
    "from tensorflow.keras.models import Model\n",
    "from tensorflow.keras.optimizers import Adam, SGD\n",
    "\n",
    "\n",
    "from sklearn.preprocessing import LabelEncoder\n",
    "from sklearn.model_selection import train_test_split\n",
    "from sklearn.metrics import confusion_matrix, RocCurveDisplay\n",
    "\n",
    "import matplotlib.pyplot as plt\n",
    "\n",
    "os.environ['TF_CPP_MIN_LOG_LEVEL'] = '3'\n",
    "os.environ[\"CUDA_VISIBLE_DEVICES\"]='2,3'\n",
    "mirrored_strategy = tf.distribute.MirroredStrategy()"
   ]
  },
  {
   "cell_type": "code",
   "execution_count": 2,
   "id": "eff6b942",
   "metadata": {},
   "outputs": [],
   "source": [
    "def loads_npy_with_y(base_path, ids, y_value):\n",
    "    loaded_npa_list = []\n",
    "    for id in ids:\n",
    "        file_path = glob.glob(f'{base_path}/{id}*.npy')[0]\n",
    "        if not isinstance(file_path, str):\n",
    "            raise Exception(f\"could'n find id({id}) file \")\n",
    "        npa = np.load(file_path)\n",
    "        n = npa.shape[0]\n",
    "        y = np.array([y_value] * n, dtype=npa.dtype)\n",
    "        npa = np.concatenate([npa,y.reshape(-1,1)], axis=1)\n",
    "        loaded_npa_list.append(npa)\n",
    "    \n",
    "    return np.concatenate(loaded_npa_list, axis=0)\n",
    "\n",
    "\n",
    "def print_results(Y, preds):\n",
    "    tn, fp, fn, tp = confusion_matrix(Y[:preds.shape[0]], preds).ravel()\n",
    "\n",
    "    accuracy = (tn + tp) / (tn+tp+fn+fp)\n",
    "    recall = tp / (tp+fn)\n",
    "    precision = tp / (fp+tp)\n",
    "    f1_score = 2*(recall*precision) / (recall + precision)\n",
    "    specificity = tn / (fp+tn)\n",
    "\n",
    "    print(\"accuracy: \", round(accuracy,3))\n",
    "    print(\"recall: \", round(recall,3))\n",
    "    print(\"precision: \", round(precision,3))\n",
    "    print(\"f1_score: \", round(f1_score,3))\n",
    "    print(\"specificity: \", round(specificity,3))\n",
    "\n",
    "    RocCurveDisplay.from_predictions(Y[:preds.shape[0]], preds)\n",
    "    plt.show()"
   ]
  },
  {
   "cell_type": "code",
   "execution_count": 3,
   "id": "a056452e",
   "metadata": {},
   "outputs": [],
   "source": [
    "test_ci_ids = [\"HM0004\", \"HM0005\", \"HS0001\", \"HS0002\", \"HS0009\", \"HS0010\", \"HS0012\",\"HS0013\"]\n",
    "\n",
    "test_hi_ids = [\"HL0005\", \"HL0075\", \"HL0024\", \"HL0034\", \"HL0089\"]\n",
    "\n",
    "test_ci_with_y = loads_npy_with_y(\"CI\",test_ci_ids,1)\n",
    "\n",
    "test_hi_with_y = loads_npy_with_y(\"HI\",test_hi_ids,0)\n",
    "\n",
    "test_X_with_Y = np.concatenate([test_ci_with_y, test_hi_with_y], axis=0)\n",
    "np.random.shuffle(test_X_with_Y)\n",
    "\n",
    "test_X = test_X_with_Y[:,:-1]\n",
    "test_Y = test_X_with_Y[:, -1]"
   ]
  },
  {
   "cell_type": "code",
   "execution_count": 4,
   "id": "c2139403",
   "metadata": {},
   "outputs": [
    {
     "name": "stdout",
     "output_type": "stream",
     "text": [
      "(56040, 64000)\n"
     ]
    }
   ],
   "source": [
    "\n",
    "model = tf.keras.models.load_model('model5_E10_B10_T59500_V19800_val-acc0.995.h5')\n",
    "print(test_X.shape)\n"
   ]
  },
  {
   "cell_type": "code",
   "execution_count": 5,
   "id": "2730135a",
   "metadata": {},
   "outputs": [
    {
     "name": "stdout",
     "output_type": "stream",
     "text": [
      "preds.shape:  (56000,)\n"
     ]
    }
   ],
   "source": [
    "def model_predict(model, X):\n",
    "    ## it's too big to use the whole data\n",
    "    data_len = X.shape[0]\n",
    "    data_num_divided_1000 = data_len//1000 \n",
    "    \n",
    "    preds = np.array([],dtype=X.dtype)\n",
    "    for i in range(data_num_divided_1000):\n",
    "        start_num = i*1000\n",
    "        end_num = start_num + 1000\n",
    "        t_x = X[start_num:end_num]\n",
    "        pred = model.predict(t_x)\n",
    "        pred = np.where(pred>0.5, 1, 0)\n",
    "        preds = np.append(preds, pred)\n",
    "\n",
    "    print(\"preds.shape: \", preds.shape)\n",
    "    \n",
    "    return preds\n",
    "\n",
    "preds = model_predict(model, test_X)"
   ]
  },
  {
   "cell_type": "code",
   "execution_count": 6,
   "id": "04f6d03b",
   "metadata": {},
   "outputs": [
    {
     "name": "stdout",
     "output_type": "stream",
     "text": [
      "accuracy:  0.979\n",
      "recall:  0.921\n",
      "precision:  0.998\n",
      "f1_score:  0.958\n",
      "specificity:  0.999\n"
     ]
    },
    {
     "data": {
      "image/png": "[encoded data removed]",
      "text/plain": [
       "<Figure size 432x288 with 1 Axes>"
      ]
     },
     "metadata": {
      "needs_background": "light"
     },
     "output_type": "display_data"
    }
   ],
   "source": [
    "print_results(test_Y, preds)"
   ]
  },
  {
   "cell_type": "code",
   "execution_count": 7,
   "id": "d2927d43",
   "metadata": {},
   "outputs": [
    {
     "name": "stdout",
     "output_type": "stream",
     "text": [
      "(60668, 64000)\n"
     ]
    }
   ],
   "source": [
    "test2_ci_ids = [\"HS0010\",\"HM0005\",\"HS0002\", \"HS0005\"]\n",
    "\n",
    "test2_hi_ids = [\"HL0101\", \"HL0023\", \"HL0031\", \"HL0060\", \"HL0091\", \"HL0125\", \"HL0071\", \"HL0043\", \"HL0094\", \"HL0111\"]\n",
    "\n",
    "\n",
    "# test_ci_with_y = loads_npy_with_y(\"CI\",train_ci_ids,1)\n",
    "test2_ci_with_y = loads_npy_with_y(\"CI\",test2_ci_ids,1)\n",
    "\n",
    "# test_hi_with_y = loads_npy_with_y(\"HI\",train_hi_ids,0\n",
    "test2_hi_with_y = loads_npy_with_y(\"HI\",test2_hi_ids,0)\n",
    "\n",
    "test2_X_with_Y = np.concatenate([test2_ci_with_y, test2_hi_with_y], axis=0)\n",
    "np.random.shuffle(test2_X_with_Y)\n",
    "\n",
    "test2_X = test2_X_with_Y[:,:-1]\n",
    "test2_Y = test2_X_with_Y[:, -1]\n",
    "\n",
    "print(test2_X.shape)"
   ]
  },
  {
   "cell_type": "code",
   "execution_count": 8,
   "id": "92138fc4",
   "metadata": {},
   "outputs": [
    {
     "name": "stdout",
     "output_type": "stream",
     "text": [
      "preds.shape:  (60000,)\n"
     ]
    }
   ],
   "source": [
    "preds = model_predict(model, test2_X)"
   ]
  },
  {
   "cell_type": "code",
   "execution_count": 9,
   "id": "0600a513",
   "metadata": {},
   "outputs": [
    {
     "name": "stdout",
     "output_type": "stream",
     "text": [
      "accuracy:  0.942\n",
      "recall:  0.976\n",
      "precision:  0.788\n",
      "f1_score:  0.872\n",
      "specificity:  0.933\n"
     ]
    },
    {
     "data": {
      "image/png": "[encoded data removed]",
      "text/plain": [
       "<Figure size 432x288 with 1 Axes>"
      ]
     },
     "metadata": {
      "needs_background": "light"
     },
     "output_type": "display_data"
    }
   ],
   "source": [
    "print_results(test2_Y, preds)"
   ]
  },
  {
   "cell_type": "code",
   "execution_count": 10,
   "id": "acf15630",
   "metadata": {},
   "outputs": [],
   "source": [
    "train_ci_ids = [\"HM0001\", \"HM0002\", \"HS0003\", \"HS0004\", \"HS0005\", \"HS0006\", \"HS0011\"]\n",
    "\n",
    "train_hi_ids = [\"HL0052\", \"HL0074\", \"HL0028\", \"HL0150\", \"HL0039\", \"HL0019\", \"HL0029\"]\n",
    "\n",
    "train_ci_with_y = loads_npy_with_y(\"CI\",train_ci_ids,1)\n",
    "\n",
    "train_hi_with_y = loads_npy_with_y(\"HI\",train_hi_ids,0)\n",
    "\n",
    "train_X_with_Y = np.concatenate([train_ci_with_y, train_hi_with_y], axis=0)\n",
    "np.random.shuffle(train_X_with_Y)\n",
    "\n",
    "train_X = train_X_with_Y[:,:-1]\n",
    "train_Y = train_X_with_Y[:, -1]"
   ]
  },
  {
   "cell_type": "code",
   "execution_count": 11,
   "id": "c46e76d7",
   "metadata": {},
   "outputs": [
    {
     "name": "stdout",
     "output_type": "stream",
     "text": [
      "preds.shape:  (79000,)\n"
     ]
    }
   ],
   "source": [
    "preds = model_predict(model, train_X)"
   ]
  },
  {
   "cell_type": "code",
   "execution_count": 12,
   "id": "b4b74ff3",
   "metadata": {},
   "outputs": [
    {
     "name": "stdout",
     "output_type": "stream",
     "text": [
      "accuracy:  0.994\n",
      "recall:  0.986\n",
      "precision:  0.999\n",
      "f1_score:  0.993\n",
      "specificity:  1.0\n"
     ]
    },
    {
     "data": {
      "image/png": "[encoded data removed]",
      "text/plain": [
       "<Figure size 432x288 with 1 Axes>"
      ]
     },
     "metadata": {
      "needs_background": "light"
     },
     "output_type": "display_data"
    }
   ],
   "source": [
    "print_results(train_Y, preds)"
   ]
  }
 ],
 "metadata": {
  "kernelspec": {
   "display_name": "Python 3 (ipykernel)",
   "language": "python",
   "name": "python3"
  },
  "language_info": {
   "codemirror_mode": {
    "name": "ipython",
    "version": 3
   },
   "file_extension": ".py",
   "mimetype": "text/x-python",
   "name": "python",
   "nbconvert_exporter": "python",
   "pygments_lexer": "ipython3",
   "version": "3.7.12"
  }
 },
 "nbformat": 4,
 "nbformat_minor": 5
}
